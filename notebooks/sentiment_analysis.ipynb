{
 "cells": [
  {
   "cell_type": "code",
   "execution_count": 1,
   "metadata": {},
   "outputs": [],
   "source": [
    "# CREDIT TO PATRICK LOEBER'S YOUTUBE TUTORIAL FOR MOST OF THE BELOW CODE\n",
    "# I replaced his use of nltk Vader's SIA with a transformer\n",
    "from pprint import pprint\n",
    "import pandas as pd\n",
    "import numpy as np\n",
    "import matplotlib.pyplot as plt\n",
    "import seaborn as sns"
   ]
  },
  {
   "cell_type": "code",
   "execution_count": 7,
   "metadata": {},
   "outputs": [],
   "source": [
    "# Import the reddit API package and initialize our reddit client\n",
    "import praw\n",
    "\n",
    "user_agent = \"Sentiment Analyzer 1.0 by /u/E4_Koga\"\n",
    "reddit = praw.Reddit(\n",
    "    client_id=\"t1JxBc-CvFjzujHmQV95GQ\",\n",
    "    client_secret=\"Xqex1Bx8naXsfmLJn5mXLaOhJx_h3Q\",\n",
    "    user_agent=user_agent\n",
    ")"
   ]
  },
  {
   "cell_type": "code",
   "execution_count": 18,
   "metadata": {},
   "outputs": [
    {
     "name": "stdout",
     "output_type": "stream",
     "text": [
      "434\n"
     ]
    }
   ],
   "source": [
    "# First step, gather the headlines from the subreddit\n",
    "headlines = set()\n",
    "SUBREDDIT_NAME = 'stocks'\n",
    "for submission in reddit.subreddit(SUBREDDIT_NAME).hot(limit=None):\n",
    "    # print(submission.title)\n",
    "    # print(submission.id)\n",
    "    # print(submission.author)\n",
    "    # print(submission.created_utc) # convert utc to readable PT datetime \n",
    "    # print(submission.score)\n",
    "    # print(submission.upvote_ratio)\n",
    "    # print(submission.url)\n",
    "    headlines.add(submission.title)\n",
    "print(len(headlines))"
   ]
  },
  {
   "cell_type": "code",
   "execution_count": 9,
   "metadata": {},
   "outputs": [
    {
     "data": {
      "text/html": [
       "<div>\n",
       "<style scoped>\n",
       "    .dataframe tbody tr th:only-of-type {\n",
       "        vertical-align: middle;\n",
       "    }\n",
       "\n",
       "    .dataframe tbody tr th {\n",
       "        vertical-align: top;\n",
       "    }\n",
       "\n",
       "    .dataframe thead th {\n",
       "        text-align: right;\n",
       "    }\n",
       "</style>\n",
       "<table border=\"1\" class=\"dataframe\">\n",
       "  <thead>\n",
       "    <tr style=\"text-align: right;\">\n",
       "      <th></th>\n",
       "      <th>0</th>\n",
       "    </tr>\n",
       "  </thead>\n",
       "  <tbody>\n",
       "    <tr>\n",
       "      <th>0</th>\n",
       "      <td>Elon Musk POS but thank you!</td>\n",
       "    </tr>\n",
       "    <tr>\n",
       "      <th>1</th>\n",
       "      <td>best play for a recession? spy puts?</td>\n",
       "    </tr>\n",
       "    <tr>\n",
       "      <th>2</th>\n",
       "      <td>ASTS not gonna launch tho</td>\n",
       "    </tr>\n",
       "    <tr>\n",
       "      <th>3</th>\n",
       "      <td>The Cofounder of Oracle just bought Paramount</td>\n",
       "    </tr>\n",
       "    <tr>\n",
       "      <th>4</th>\n",
       "      <td>ORCLE Earnings</td>\n",
       "    </tr>\n",
       "  </tbody>\n",
       "</table>\n",
       "</div>"
      ],
      "text/plain": [
       "                                               0\n",
       "0                   Elon Musk POS but thank you!\n",
       "1           best play for a recession? spy puts?\n",
       "2                      ASTS not gonna launch tho\n",
       "3  The Cofounder of Oracle just bought Paramount\n",
       "4                                 ORCLE Earnings"
      ]
     },
     "execution_count": 9,
     "metadata": {},
     "output_type": "execute_result"
    }
   ],
   "source": [
    "# Let's visualize the headlines using pandas\n",
    "df = pd.DataFrame(headlines)\n",
    "df.head()"
   ]
  },
  {
   "cell_type": "code",
   "execution_count": 10,
   "metadata": {},
   "outputs": [],
   "source": [
    "# Convert the dataframe to a format we can feed the NLTK tool\n",
    "df.to_csv('headlines.csv', header=False, encoding='utf-8', index=False)"
   ]
  },
  {
   "cell_type": "code",
   "execution_count": 40,
   "metadata": {},
   "outputs": [
    {
     "name": "stderr",
     "output_type": "stream",
     "text": [
      "/Users/rn/Code/reddit_sentiment_analysis/.venv/lib/python3.12/site-packages/transformers/tokenization_utils_base.py:1601: FutureWarning: `clean_up_tokenization_spaces` was not set. It will be set to `True` by default. This behavior will be depracted in transformers v4.45, and will be then set to `False` by default. For more details check this issue: https://github.com/huggingface/transformers/issues/31884\n",
      "  warnings.warn(\n"
     ]
    },
    {
     "name": "stdout",
     "output_type": "stream",
     "text": [
      "[{'headline': 'Elon Musk POS but thank you!',\n",
      "  'label': 'LABEL_2',\n",
      "  'score': 0.5521805286407471,\n",
      "  'sentiment': 'positive'},\n",
      " {'headline': 'best play for a recession? spy puts?',\n",
      "  'label': 'LABEL_1',\n",
      "  'score': 0.6440161466598511,\n",
      "  'sentiment': 'neutral'},\n",
      " {'headline': 'ASTS not gonna launch tho',\n",
      "  'label': 'LABEL_1',\n",
      "  'score': 0.6327182054519653,\n",
      "  'sentiment': 'neutral'}]\n"
     ]
    },
    {
     "data": {
      "text/html": [
       "<div>\n",
       "<style scoped>\n",
       "    .dataframe tbody tr th:only-of-type {\n",
       "        vertical-align: middle;\n",
       "    }\n",
       "\n",
       "    .dataframe tbody tr th {\n",
       "        vertical-align: top;\n",
       "    }\n",
       "\n",
       "    .dataframe thead th {\n",
       "        text-align: right;\n",
       "    }\n",
       "</style>\n",
       "<table border=\"1\" class=\"dataframe\">\n",
       "  <thead>\n",
       "    <tr style=\"text-align: right;\">\n",
       "      <th></th>\n",
       "      <th>score</th>\n",
       "      <th>headline</th>\n",
       "      <th>sentiment</th>\n",
       "    </tr>\n",
       "  </thead>\n",
       "  <tbody>\n",
       "    <tr>\n",
       "      <th>0</th>\n",
       "      <td>0.552181</td>\n",
       "      <td>Elon Musk POS but thank you!</td>\n",
       "      <td>positive</td>\n",
       "    </tr>\n",
       "    <tr>\n",
       "      <th>1</th>\n",
       "      <td>0.644016</td>\n",
       "      <td>best play for a recession? spy puts?</td>\n",
       "      <td>neutral</td>\n",
       "    </tr>\n",
       "    <tr>\n",
       "      <th>2</th>\n",
       "      <td>0.632718</td>\n",
       "      <td>ASTS not gonna launch tho</td>\n",
       "      <td>neutral</td>\n",
       "    </tr>\n",
       "    <tr>\n",
       "      <th>3</th>\n",
       "      <td>0.781731</td>\n",
       "      <td>The Cofounder of Oracle just bought Paramount</td>\n",
       "      <td>neutral</td>\n",
       "    </tr>\n",
       "    <tr>\n",
       "      <th>4</th>\n",
       "      <td>0.841552</td>\n",
       "      <td>ORCLE Earnings</td>\n",
       "      <td>neutral</td>\n",
       "    </tr>\n",
       "  </tbody>\n",
       "</table>\n",
       "</div>"
      ],
      "text/plain": [
       "      score                                       headline sentiment\n",
       "0  0.552181                   Elon Musk POS but thank you!  positive\n",
       "1  0.644016           best play for a recession? spy puts?   neutral\n",
       "2  0.632718                      ASTS not gonna launch tho   neutral\n",
       "3  0.781731  The Cofounder of Oracle just bought Paramount   neutral\n",
       "4  0.841552                                 ORCLE Earnings   neutral"
      ]
     },
     "execution_count": 40,
     "metadata": {},
     "output_type": "execute_result"
    }
   ],
   "source": [
    "from transformers import pipeline\n",
    "from pprint import pprint\n",
    "import pandas as pd\n",
    "\n",
    "# Initialize the Hugging Face sentiment analysis pipeline with GPU support\n",
    "sentiment_pipeline = pipeline(\"sentiment-analysis\", model=\"cardiffnlp/twitter-roberta-base-sentiment\", device=0)\n",
    "\n",
    "# Define a mapping from model labels to sentiment names\n",
    "label_to_sentiment = {\n",
    "    'LABEL_0': 'negative',\n",
    "    'LABEL_1': 'neutral',\n",
    "    'LABEL_2': 'positive'\n",
    "}\n",
    "\n",
    "results = []\n",
    "\n",
    "# Iterate over each headline and get sentiment prediction\n",
    "for line in headlines:\n",
    "    sentiment = sentiment_pipeline(line)  # Perform sentiment analysis\n",
    "    pol_score = sentiment[0]  # Extract the first result (sentiment analysis pipeline returns a list)\n",
    "    \n",
    "    # Map the label to its corresponding sentiment name\n",
    "    pol_score['headline'] = line  # Add the original headline to the results\n",
    "    pol_score['sentiment'] = label_to_sentiment[pol_score['label']]  # Map and store the sentiment class\n",
    "    results.append(pol_score)\n",
    "\n",
    "# Display the results\n",
    "pprint(results[:3], width=100)\n",
    "\n",
    "# Convert results to DataFrame for further analysis\n",
    "df = pd.DataFrame.from_records(results)\n",
    "df.drop(columns=['label'], inplace=True)\n",
    "df.head()\n"
   ]
  },
  {
   "cell_type": "code",
   "execution_count": 54,
   "metadata": {},
   "outputs": [
    {
     "name": "stderr",
     "output_type": "stream",
     "text": [
      "/var/folders/hb/rp285xgs42z09t5zr56tgny80000gn/T/ipykernel_28109/3400100366.py:6: SettingWithCopyWarning: \n",
      "A value is trying to be set on a copy of a slice from a DataFrame\n",
      "\n",
      "See the caveats in the documentation: https://pandas.pydata.org/pandas-docs/stable/user_guide/indexing.html#returning-a-view-versus-a-copy\n",
      "  filtered_df.drop(columns=['score'], inplace=True)\n"
     ]
    },
    {
     "data": {
      "text/html": [
       "<div>\n",
       "<style scoped>\n",
       "    .dataframe tbody tr th:only-of-type {\n",
       "        vertical-align: middle;\n",
       "    }\n",
       "\n",
       "    .dataframe tbody tr th {\n",
       "        vertical-align: top;\n",
       "    }\n",
       "\n",
       "    .dataframe thead th {\n",
       "        text-align: right;\n",
       "    }\n",
       "</style>\n",
       "<table border=\"1\" class=\"dataframe\">\n",
       "  <thead>\n",
       "    <tr style=\"text-align: right;\">\n",
       "      <th></th>\n",
       "      <th>headline</th>\n",
       "      <th>sentiment</th>\n",
       "    </tr>\n",
       "  </thead>\n",
       "  <tbody>\n",
       "    <tr>\n",
       "      <th>3</th>\n",
       "      <td>The Cofounder of Oracle just bought Paramount</td>\n",
       "      <td>neutral</td>\n",
       "    </tr>\n",
       "    <tr>\n",
       "      <th>4</th>\n",
       "      <td>ORCLE Earnings</td>\n",
       "      <td>neutral</td>\n",
       "    </tr>\n",
       "    <tr>\n",
       "      <th>8</th>\n",
       "      <td>NIO Q2 Earnings: EPS Beat, Deliveries Growth, ...</td>\n",
       "      <td>positive</td>\n",
       "    </tr>\n",
       "    <tr>\n",
       "      <th>9</th>\n",
       "      <td>Boeing Puts</td>\n",
       "      <td>neutral</td>\n",
       "    </tr>\n",
       "    <tr>\n",
       "      <th>10</th>\n",
       "      <td>Nvidia reports 122% revenue growth, $50 billio...</td>\n",
       "      <td>positive</td>\n",
       "    </tr>\n",
       "  </tbody>\n",
       "</table>\n",
       "</div>"
      ],
      "text/plain": [
       "                                             headline sentiment\n",
       "3       The Cofounder of Oracle just bought Paramount   neutral\n",
       "4                                      ORCLE Earnings   neutral\n",
       "8   NIO Q2 Earnings: EPS Beat, Deliveries Growth, ...  positive\n",
       "9                                         Boeing Puts   neutral\n",
       "10  Nvidia reports 122% revenue growth, $50 billio...  positive"
      ]
     },
     "execution_count": 54,
     "metadata": {},
     "output_type": "execute_result"
    }
   ],
   "source": [
    "# Set a confidence score threshold to filter confidence score against\n",
    "confidence_threshold = 0.75\n",
    "\n",
    "# Filter the DataFrame based on the threshold and drop it\n",
    "filtered_df = df[df['score'] >= confidence_threshold]\n",
    "filtered_df.drop(columns=['score'], inplace=True)\n",
    "\n",
    "# Display the filtered DataFrame\n",
    "filtered_df.to_csv(f'{SUBREDDIT_NAME}_headlines_labels.csv', encoding='utf-8', index=False)\n",
    "filtered_df.head()"
   ]
  },
  {
   "cell_type": "code",
   "execution_count": 56,
   "metadata": {},
   "outputs": [
    {
     "name": "stdout",
     "output_type": "stream",
     "text": [
      "'Value counts of sentiment classes'\n",
      "sentiment\n",
      "neutral     78.18930\n",
      "positive    13.99177\n",
      "negative     7.81893\n",
      "Name: proportion, dtype: float64\n",
      "\n",
      "Positive headlines:\n",
      "\n",
      "['Elon Musk POS but thank you!',\n",
      " 'NIO Q2 Earnings: EPS Beat, Deliveries Growth, Strong Q3, Outlook And More',\n",
      " 'Nvidia reports 122% revenue growth, $50 billion in share buybacks!',\n",
      " 'Managed to 2.9x money. Turning 8.7K to 25.8K (17.1K profit). NVDA Lucky Put👍.',\n",
      " 'NVDA Puts closed for 85% Gain ($3,000+). I will reload later. Happy September boys. Should be a fun one. ']\n",
      "\n",
      "Neutral headlines:\n",
      "\n",
      "['best play for a recession? spy puts?', 'ASTS not gonna launch tho', 'The Cofounder of Oracle just bought Paramount', 'ORCLE Earnings', 'I don’t even trade options…']\n",
      "\n",
      "Negative headlines:\n",
      "\n",
      "['Here is why LUNR spiked today ',\n",
      " 'SPX said no Wendy’s for you today ',\n",
      " '60%+ that the market would crater from job reports',\n",
      " 'NVDA is a money destroying machine lately',\n",
      " 'Why is ATT not falling with the rest of the market? ']\n"
     ]
    }
   ],
   "source": [
    "# Now that we have our data and SIA output, we can use the above libraries for some data analysis\n",
    "\n",
    "counts = (filtered_df.sentiment.value_counts(normalize=True) * 100)\n",
    "\n",
    "pprint(\"Value counts of sentiment classes\")\n",
    "pprint(counts)\n",
    "\n",
    "print(\"\\nPositive headlines:\\n\")\n",
    "pprint(list(df[df['sentiment'] == 'positive'].headline)[:5], width=200)\n",
    "\n",
    "print(\"\\nNeutral headlines:\\n\")\n",
    "pprint(list(df[df['sentiment'] == 'neutral'].headline)[:5], width=200)\n",
    "\n",
    "print(\"\\nNegative headlines:\\n\")\n",
    "pprint(list(df[df['sentiment'] == 'negative'].headline)[:5], width=200)"
   ]
  },
  {
   "cell_type": "code",
   "execution_count": 58,
   "metadata": {},
   "outputs": [
    {
     "data": {
      "image/png": "[encoded data removed]",
      "text/plain": [
       "<Figure size 800x800 with 1 Axes>"
      ]
     },
     "metadata": {},
     "output_type": "display_data"
    }
   ],
   "source": [
    "# The powerful matplotlib library allows for more advanced data visualization\n",
    "\n",
    "fig, ax = plt.subplots(figsize=(8,8))\n",
    "\n",
    "sns.barplot(x=counts.index, y=counts, ax=ax)\n",
    "\n",
    "# ax.set_xticklabels(['Negative', 'Neutral', 'Positive'])\n",
    "ax.set_ylabel(\"Percentage with 75% confidence threshold filter\")\n",
    "\n",
    "plt.show()"
   ]
  }
 ],
 "metadata": {
  "kernelspec": {
   "display_name": ".venv",
   "language": "python",
   "name": "python3"
  },
  "language_info": {
   "codemirror_mode": {
    "name": "ipython",
    "version": 3
   },
   "file_extension": ".py",
   "mimetype": "text/x-python",
   "name": "python",
   "nbconvert_exporter": "python",
   "pygments_lexer": "ipython3",
   "version": "3.12.4"
  }
 },
 "nbformat": 4,
 "nbformat_minor": 2
}
